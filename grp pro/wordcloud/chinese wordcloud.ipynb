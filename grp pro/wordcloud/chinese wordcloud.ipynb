{
 "cells": [
  {
   "cell_type": "code",
   "execution_count": null,
   "metadata": {},
   "outputs": [],
   "source": [
    "#download jieba first"
   ]
  },
  {
   "cell_type": "code",
   "execution_count": null,
   "metadata": {},
   "outputs": [],
   "source": [
    "from wordcloud import WordCloud\n",
    "from wordcloud import WordCloud, STOPWORDS, ImageColorGenerator\n",
    "import matplotlib.pyplot as plt"
   ]
  },
  {
   "cell_type": "code",
   "execution_count": null,
   "metadata": {},
   "outputs": [],
   "source": [
    "#references for stopwords"
   ]
  },
  {
   "cell_type": "code",
   "execution_count": null,
   "metadata": {},
   "outputs": [],
   "source": [
    "import jieba                                   \n",
    "stopwords={}.fromkeys(['的','得','地','吗','哈哈哈哈','啦','呢','吧','了','啊','这','是','我','：','？','！',' ','。','😊','\\xa0', '😂'])        #定义停用词字典\n",
    "select=df['comments']#open the file  \n",
    "def jieba_fc(column):                             \n",
    "    words=[]                                      \n",
    "    for col in column:       \n",
    "        word = str(col.value)                       \n",
    "        words_fc = jieba.cut (word,cut_all=False)   \n",
    "        for j in words_fc:                          \n",
    "            if j not in stopwords:                  \n",
    "                words.append(j)                     \n",
    "    return ' '.join(words)                          \n",
    "text=jieba_fc(select)                    "
   ]
  },
  {
   "cell_type": "code",
   "execution_count": null,
   "metadata": {},
   "outputs": [],
   "source": [
    "               "
   ]
  },
  {
   "cell_type": "code",
   "execution_count": null,
   "metadata": {},
   "outputs": [],
   "source": []
  },
  {
   "cell_type": "code",
   "execution_count": null,
   "metadata": {},
   "outputs": [],
   "source": [
    "#using pics as the background   \n",
    "\n",
    "#just a code demo，since i cannot download jieba, i passed it to my grp mates\n"
   ]
  },
  {
   "cell_type": "code",
   "execution_count": null,
   "metadata": {},
   "outputs": [],
   "source": [
    "# coding: utf-8\n",
    "import jieba\n",
    "from scipy.misc import imread  \n",
    "from wordcloud import WordCloud, STOPWORDS, ImageColorGenerator\n",
    "import matplotlib.pyplot as plt\n",
    "\n",
    "back_color = imread('xxxx.jpg')  \n",
    "\n",
    "wc = WordCloud(max_words=50,\n",
    "               font_path=\"C:/Windows/Fonts/STFANGSO.ttf\",\n",
    "               random_state=42,\n",
    "               width=1000,\n",
    "               height=860\n",
    "              )\n",
    "\n",
    "\n",
    "# open the txt file\n",
    "text = open('cnword.txt').read()\n",
    "\n",
    "def stop_words(texts):\n",
    "    words_list = []\n",
    "    word_generator = jieba.cut(texts, cut_all=False)  # use jieba to cut the sentences\n",
    "    with open('stopwords.txt') as f:\n",
    "        str_text = f.read()\n",
    "        unicode_text = unicode(str_text, 'utf-8')  # str----unicode\n",
    "        f.close()  \n",
    "    for word in word_generator:\n",
    "        if word.strip() not in unicode_text:\n",
    "            words_list.append(word)\n",
    "    return ' '.join(words_list)\n",
    "\n",
    "\n",
    "text = stop_words(text)\n",
    "\n",
    "wc.generate(text)\n",
    "image_colors = ImageColorGenerator(back_color)\n",
    "plt.imshow(wc)\n",
    "plt.axis('off')\n",
    "\n",
    "plt.figure()\n",
    "plt.imshow(wc.recolor(color_func=image_colors))\n",
    "plt.axis('off')\n",
    "\n",
    "wc.to_file('19th.png')"
   ]
  }
 ],
 "metadata": {
  "kernelspec": {
   "display_name": "Python 3",
   "language": "python",
   "name": "python3"
  },
  "language_info": {
   "codemirror_mode": {
    "name": "ipython",
    "version": 3
   },
   "file_extension": ".py",
   "mimetype": "text/x-python",
   "name": "python",
   "nbconvert_exporter": "python",
   "pygments_lexer": "ipython3",
   "version": "3.8.3"
  }
 },
 "nbformat": 4,
 "nbformat_minor": 4
}
