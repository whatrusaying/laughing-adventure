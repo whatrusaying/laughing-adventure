{
 "cells": [
  {
   "cell_type": "code",
   "execution_count": 12,
   "metadata": {},
   "outputs": [
    {
     "name": "stdout",
     "output_type": "stream",
     "text": [
      "372\n",
      "372\n",
      "372\n",
      "372\n"
     ]
    }
   ],
   "source": [
    "import pandas as pd \n",
    "import numpy as np\n",
    "\n",
    "df1= pd.read_table(r\"D:\\1\\test.txt\")\n",
    "df2= pd.read_table(r\"D:\\1\\test2.txt\")\n",
    "df3=pd.read_table(r\"D:\\1\\test3.txt\")\n",
    "df4= pd.read_table(r\"D:\\1\\test4.txt\")\n",
    "print(df1.size)\n",
    "print(df2.size)\n",
    "print(df3.size)\n",
    "print(df4.size)"
   ]
  },
  {
   "cell_type": "code",
   "execution_count": 13,
   "metadata": {},
   "outputs": [
    {
     "data": {
      "text/html": [
       "<div>\n",
       "<style scoped>\n",
       "    .dataframe tbody tr th:only-of-type {\n",
       "        vertical-align: middle;\n",
       "    }\n",
       "\n",
       "    .dataframe tbody tr th {\n",
       "        vertical-align: top;\n",
       "    }\n",
       "\n",
       "    .dataframe thead th {\n",
       "        text-align: right;\n",
       "    }\n",
       "</style>\n",
       "<table border=\"1\" class=\"dataframe\">\n",
       "  <thead>\n",
       "    <tr style=\"text-align: right;\">\n",
       "      <th></th>\n",
       "      <th>comments</th>\n",
       "      <th>time</th>\n",
       "      <th>courses</th>\n",
       "      <th>response</th>\n",
       "    </tr>\n",
       "  </thead>\n",
       "  <tbody>\n",
       "    <tr>\n",
       "      <th>0</th>\n",
       "      <td>老师很好，上课有趣，每节课都笑到爆，强推</td>\n",
       "      <td>3 个月前</td>\n",
       "      <td>心理测量</td>\n",
       "      <td>0.0</td>\n",
       "    </tr>\n",
       "    <tr>\n",
       "      <th>1</th>\n",
       "      <td>平时回答问题加分，上课比较轻松，老师会聊一些题外话，期末8000字综述</td>\n",
       "      <td>4 个月前</td>\n",
       "      <td>新能源与环境</td>\n",
       "      <td>0.0</td>\n",
       "    </tr>\n",
       "    <tr>\n",
       "      <th>2</th>\n",
       "      <td>老师人非常非常好，是我见过的公选老师中很少见的对待课程认真负责的老师，做pre会送罐头植物，...</td>\n",
       "      <td>4 个月前</td>\n",
       "      <td>植物的\"智慧\"：植物的适应性进化(核心通识)</td>\n",
       "      <td>0.0</td>\n",
       "    </tr>\n",
       "    <tr>\n",
       "      <th>3</th>\n",
       "      <td>上课非常有趣，想学历史一定要选，但是期末考试跟专业课考试排在一起有一点难受😣</td>\n",
       "      <td>1 年前</td>\n",
       "      <td>中国传统文化十讲(核心通识)</td>\n",
       "      <td>0.0</td>\n",
       "    </tr>\n",
       "    <tr>\n",
       "      <th>4</th>\n",
       "      <td>一开始挺有趣的还，其实内容还挺科普的（尽量讲的不太深），小测简单（说不定群里有人发答案），期...</td>\n",
       "      <td>1 年前</td>\n",
       "      <td>低碳城市与绿色能源技术(核心通识)</td>\n",
       "      <td>0.0</td>\n",
       "    </tr>\n",
       "    <tr>\n",
       "      <th>...</th>\n",
       "      <td>...</td>\n",
       "      <td>...</td>\n",
       "      <td>...</td>\n",
       "      <td>...</td>\n",
       "    </tr>\n",
       "    <tr>\n",
       "      <th>367</th>\n",
       "      <td>从来不点名，每次上课都是企业家来讲，每次课的企业家都不同。</td>\n",
       "      <td>4 年前</td>\n",
       "      <td>创业人生</td>\n",
       "      <td>0.0</td>\n",
       "    </tr>\n",
       "    <tr>\n",
       "      <th>368</th>\n",
       "      <td>首先，作业量很多，因为要写实验报告。其次，罗志高这老师很严，要是你运气差的话，分数绝对很低，...</td>\n",
       "      <td>4 年前</td>\n",
       "      <td>通识物理实验(核心通识)</td>\n",
       "      <td>0.0</td>\n",
       "    </tr>\n",
       "    <tr>\n",
       "      <th>369</th>\n",
       "      <td>对中国传统文化感兴趣，喜欢儒家经典可选，建选，</td>\n",
       "      <td>4 年前</td>\n",
       "      <td>《论语》研读(核心通识)</td>\n",
       "      <td>1.0</td>\n",
       "    </tr>\n",
       "    <tr>\n",
       "      <th>370</th>\n",
       "      <td>没有人上过这个课吗。。。。</td>\n",
       "      <td>4 年前</td>\n",
       "      <td>合唱作品赏析与实践(初级)</td>\n",
       "      <td>0.0</td>\n",
       "    </tr>\n",
       "    <tr>\n",
       "      <th>371</th>\n",
       "      <td>老师人不错，但是建议有一定计算机组成原理或者操作系统的基础；具体而言课堂内容是MPI, Op...</td>\n",
       "      <td>4 年前</td>\n",
       "      <td>应用超级计算(核心通识)</td>\n",
       "      <td>0.0</td>\n",
       "    </tr>\n",
       "  </tbody>\n",
       "</table>\n",
       "<p>372 rows × 4 columns</p>\n",
       "</div>"
      ],
      "text/plain": [
       "                                              comments   time  \\\n",
       "0                                 老师很好，上课有趣，每节课都笑到爆，强推  3 个月前   \n",
       "1                  平时回答问题加分，上课比较轻松，老师会聊一些题外话，期末8000字综述  4 个月前   \n",
       "2    老师人非常非常好，是我见过的公选老师中很少见的对待课程认真负责的老师，做pre会送罐头植物，...  4 个月前   \n",
       "3              上课非常有趣，想学历史一定要选，但是期末考试跟专业课考试排在一起有一点难受😣    1 年前   \n",
       "4    一开始挺有趣的还，其实内容还挺科普的（尽量讲的不太深），小测简单（说不定群里有人发答案），期...   1 年前   \n",
       "..                                                 ...    ...   \n",
       "367                      从来不点名，每次上课都是企业家来讲，每次课的企业家都不同。   4 年前   \n",
       "368  首先，作业量很多，因为要写实验报告。其次，罗志高这老师很严，要是你运气差的话，分数绝对很低，...   4 年前   \n",
       "369                            对中国传统文化感兴趣，喜欢儒家经典可选，建选，   4 年前   \n",
       "370                                      没有人上过这个课吗。。。。   4 年前   \n",
       "371  老师人不错，但是建议有一定计算机组成原理或者操作系统的基础；具体而言课堂内容是MPI, Op...   4 年前   \n",
       "\n",
       "                    courses  response  \n",
       "0                      心理测量       0.0  \n",
       "1                    新能源与环境       0.0  \n",
       "2    植物的\"智慧\"：植物的适应性进化(核心通识)       0.0  \n",
       "3            中国传统文化十讲(核心通识)       0.0  \n",
       "4         低碳城市与绿色能源技术(核心通识)       0.0  \n",
       "..                      ...       ...  \n",
       "367                    创业人生       0.0  \n",
       "368            通识物理实验(核心通识)       0.0  \n",
       "369            《论语》研读(核心通识)       1.0  \n",
       "370           合唱作品赏析与实践(初级)       0.0  \n",
       "371            应用超级计算(核心通识)       0.0  \n",
       "\n",
       "[372 rows x 4 columns]"
      ]
     },
     "execution_count": 13,
     "metadata": {},
     "output_type": "execute_result"
    }
   ],
   "source": [
    "df=pd.concat([df1, df2,df3,df4], axis=1, join='inner', sort=True)\n",
    "df"
   ]
  },
  {
   "cell_type": "code",
   "execution_count": 14,
   "metadata": {},
   "outputs": [],
   "source": [
    "df.loc[0,'time'] = 0.3\n",
    "df.loc[1,'time'] = 0.4\n",
    "df.loc[2,'time'] = 0.4"
   ]
  },
  {
   "cell_type": "code",
   "execution_count": 15,
   "metadata": {},
   "outputs": [
    {
     "name": "stdout",
     "output_type": "stream",
     "text": [
      "average = 2.8228494623655913\n"
     ]
    },
    {
     "name": "stderr",
     "output_type": "stream",
     "text": [
      "<ipython-input-15-f7942d519908>:5: SettingWithCopyWarning: \n",
      "A value is trying to be set on a copy of a slice from a DataFrame\n",
      "\n",
      "See the caveats in the documentation: https://pandas.pydata.org/pandas-docs/stable/user_guide/indexing.html#returning-a-view-versus-a-copy\n",
      "  df['time'][3:371]=df['time'][3:371].apply(convert)\n"
     ]
    }
   ],
   "source": [
    "def convert(series):\n",
    "    new_value = series.replace('年前','')\n",
    "    return float (new_value)\n",
    "    \n",
    "df['time'][3:371]=df['time'][3:371].apply(convert)\n",
    "df.loc[371,'time'] = 4\n",
    "print (\"average = \"+ str(df['time'].sum()/372))\n"
   ]
  },
  {
   "cell_type": "code",
   "execution_count": 16,
   "metadata": {},
   "outputs": [
    {
     "data": {
      "text/plain": [
       "count     372.0\n",
       "unique      6.0\n",
       "top         3.0\n",
       "freq      190.0\n",
       "Name: time, dtype: float64"
      ]
     },
     "execution_count": 16,
     "metadata": {},
     "output_type": "execute_result"
    }
   ],
   "source": [
    "df['time'].describe()"
   ]
  },
  {
   "cell_type": "code",
   "execution_count": 17,
   "metadata": {},
   "outputs": [
    {
     "data": {
      "image/png": "[encoded data removed]",
      "text/plain": [
       "<Figure size 432x288 with 1 Axes>"
      ]
     },
     "metadata": {
      "needs_background": "light"
     },
     "output_type": "display_data"
    }
   ],
   "source": [
    "import matplotlib.pyplot as plt\n",
    "df['time'].plot(kind='line',\n",
    "                alpha=1)\n",
    "plt.show()"
   ]
  },
  {
   "cell_type": "code",
   "execution_count": null,
   "metadata": {},
   "outputs": [],
   "source": []
  },
  {
   "cell_type": "code",
   "execution_count": 20,
   "metadata": {},
   "outputs": [],
   "source": [
    "df.to_csv(\"helpme.csv\")#pass it to my grp mates to better visualization "
   ]
  },
  {
   "cell_type": "code",
   "execution_count": 113,
   "metadata": {},
   "outputs": [
    {
     "data": {
      "text/plain": [
       "courses\n",
       "38亿年变迁—地球生命的智慧                    1\n",
       "ASP.NET动态网站开发实践                   1\n",
       "HTML5交互动画开发实践教程(核心通识)             1\n",
       "Haskell 函数程序设计简介                  1\n",
       "Java程序设计                          1\n",
       "Linux应用及实践(核心通识)                  2\n",
       "Photoshop图像设计与制作基础                2\n",
       "Python与计算生物学                      1\n",
       "Python程序设计基础                      5\n",
       "lyric                             1\n",
       "《住宅、环境和健康》(核心通识)                  1\n",
       "《论语》新解(核心通识)                      1\n",
       "《论语》研读(核心通识)                      5\n",
       "《金瓶梅词话》导读(核心通识)                   1\n",
       "个人健康的自我管理能力发展                     1\n",
       "中华人民共和国对外关系(核心通识)                 7\n",
       "中国书法赏析与体验                         1\n",
       "中国传统文化十讲(核心通识)                    3\n",
       "中国古代戏曲名著品鉴(核心通识)                  1\n",
       "中国古代社会生活史(核心通识)                   1\n",
       "中国古典诗文欣赏与创作(核心通识)                 3\n",
       "中国当代小说十家讲读(核心通识)                  1\n",
       "中国民乐演奏基础(古筝)                      2\n",
       "中国现代文学经典作家选讲(核心通识)                1\n",
       "中国经济                              2\n",
       "中国近代文化思潮(核心通识)                    2\n",
       "中国近现代文学批评大师经典导读                   1\n",
       "临床研究概论(核心通识)                      1\n",
       "亲子鉴定技术                            1\n",
       "人体健康学                             2\n",
       "人类生态学(核心通识)                       5\n",
       "人际沟通与人类关系发展(核心通识)                 3\n",
       "今日物理(核心通识)                        1\n",
       "从G2到G20：当代中国外交博弈(核心通识)            7\n",
       "从太空看地球                            1\n",
       "从电影中解读地球(核心通识)                    3\n",
       "从纪录片看全球环境问题(核心通识)                 3\n",
       "伟大属于罗马——罗马历史纵览(核心通识)              1\n",
       "传染病与健康(核心通识)                      1\n",
       "低碳城市与绿色能源技术(核心通识)                 2\n",
       "俄罗斯文明进程(核心通识)                     1\n",
       "信息素养与信息检索通用教程(核心通识)               1\n",
       "健身                                1\n",
       "全球变化(核心通识)                        3\n",
       "养生与治未病                            1\n",
       "养生与治末病(核心通识)                      1\n",
       "函数程序设计                            1\n",
       "创业人生                              2\n",
       "创业学(核心通识)                         1\n",
       "创新思维训练(核心通识)                      1\n",
       "创新方法及应用(核心通识)                     2\n",
       "动物保护与福利                           1\n",
       "化学与可持续发展                          1\n",
       "医学营养理论与实践                         1\n",
       "历史哲学(核心通识)                        2\n",
       "历史社会学(核心通识)                       1\n",
       "发育生物学(核心通识)                       1\n",
       "口腔科学                              2\n",
       "古代中国的思想世界(核心通识)                   1\n",
       "古代小说经典赏析(核心通识)                    9\n",
       "古希腊文明(核心通识)                       2\n",
       "古文字学(核心通识)                        3\n",
       "叹帝国：先秦秦汉政治史(核心通识)                 1\n",
       "合唱作品赏析与实践(初级)                     2\n",
       "哲学导论：哲学家们想做什么？(核心通识)              1\n",
       "唐代诗歌漫谈                            1\n",
       "喵喵喵                               1\n",
       "四季养生与生物节律(核心通识)                   1\n",
       "园林设计(核心通识)                        2\n",
       "园艺植物栽培(核心通识)                      2\n",
       "国家治理与公共预算(核心通识)                   2\n",
       "图说中国戏剧(核心通识)                      4\n",
       "地球、海洋与生命                          1\n",
       "地球科学导论(核心通识)                      1\n",
       "地球资源学(核心通识)                       4\n",
       "地质景观与资源(核心通识)                     1\n",
       "城市安全与应急管理概论                       3\n",
       "基础免疫学(核心通识)                       2\n",
       "外行做律师                             1\n",
       "多媒体技术                             1\n",
       "大众文化导论(核心通识)                      4\n",
       "大学日语(一)                           2\n",
       "大学日语(二)                           2\n",
       "大学生体质健康及个人运动处方实施                  1\n",
       "大学生健康                             7\n",
       "大数据分析基础(核心通识)                     1\n",
       "大科学与大数据的典范：高能物理及中国扮演的角色(核心通识)     1\n",
       "太阳能技术概论(核心通识)                     1\n",
       "如何上大学                             1\n",
       "媒介与社会(核心通识)                       2\n",
       "媒体策划与数字编辑(核心通识)                   2\n",
       "宇宙学纵览(核心通识)                       1\n",
       "宏观经济学(核心通识)                       2\n",
       "寄生虫世界(核心通识)                       1\n",
       "工程制图与CAD                          1\n",
       "常见传染病的传播和预防                       1\n",
       "常见医学和科学知识误区(核心通识)                 2\n",
       "应对气候变化—后哥本哈根时代(核心通识)              2\n",
       "应用超级计算(核心通识)                      2\n",
       "当代世界经济与政治格局(核心通识)                 2\n",
       "当代国际关系与中国外交(核心通识)                 1\n",
       "形象塑造与礼仪训练                         1\n",
       "影像传播的文化研究                         1\n",
       "律师初阶                              1\n",
       "心理测量                              2\n",
       "心理测量与自我认识(核心通识)                   1\n",
       "慢性疾病的初级卫生保健(核心通识)                 1\n",
       "投资信息分析(核心通识)                      1\n",
       "投资项目评估(核心通识)                      1\n",
       "拉丁文入门(核心通识)                       3\n",
       "摄影科学与艺术                           1\n",
       "数字城市(核心通识)                        3\n",
       "数学故事                              2\n",
       "文学与存在                             1\n",
       "新产品开发与营销                          1\n",
       "新媒体素养MOOC(核心通识)                   2\n",
       "新材料与人类文明(核心通识)                    1\n",
       "新能源与环境                            1\n",
       "无碳能源的现在与未来(核心通识)                  1\n",
       "日本语与日本文化(核心通识)                    4\n",
       "昆虫世界与人类社会(核心通识)                   5\n",
       "植物的\"智慧\"：植物的适应性进化(核心通识)            6\n",
       "欧亚各国城市建设与环保理念                     1\n",
       "歌曲赏析与演绎                           1\n",
       "水生动物营养与饲料科学(核心通识)                 2\n",
       "水的多学科视角                           2\n",
       "法医学案例分析(核心通识)                     1\n",
       "法学入门                              2\n",
       "海洋生物学和海洋生物技术(核心通识)                2\n",
       "消费者行为学(核心通识)                      1\n",
       "清宫戏与清代历史文化(核心通识)                  1\n",
       "游泳                                2\n",
       "物理与人文                             1\n",
       "物理学史(核心通识)                        1\n",
       "环境纳米科学与技术                         5\n",
       "现代生命科学与人类社会(核心通识)                 4\n",
       "现代生命科学与人类社会(进阶)                   1\n",
       "现代生命科学导论(核心通识)                    2\n",
       "现代生物技术导论(核心通识)                    3\n",
       "现实生活中的生物技术(核心通识)                  1\n",
       "现当代文学经典细读(一)(核心通识)                1\n",
       "生命科学史(核心通识)                       1\n",
       "生态经济学(核心通识)                       2\n",
       "生活中的病毒与疾病(核心通识)                   1\n",
       "生理学与健康(核心通识)                      1\n",
       "电影中的法律(核心通识)                      2\n",
       "电脑美术设计——CORELDRAW(13)应用           1\n",
       "相对论与时空(核心通识)                      2\n",
       "神奇的微生物(核心通识)                      3\n",
       "私人定制细胞治疗                          1\n",
       "私人定制细胞治疗(核心通识)                    1\n",
       "科学之美                              1\n",
       "科技论文写作与演讲规范和技巧                    1\n",
       "税法与公司税务风险(核心通识)                   3\n",
       "管理运筹学(核心通识)                       1\n",
       "经济学与生活(核心通识)                      1\n",
       "绘画造型基础                            1\n",
       "网络信息政策法规导论(核心通识)                  6\n",
       "网络开发工具与技术(核心通识)                   2\n",
       "网络攻击与防御技术(核心通识)                   1\n",
       "美国历史与文化(核心通识)                     1\n",
       "美国文明史(核心通识)                       1\n",
       "美国电影：历史、文化与批评(核心通识)               2\n",
       "美学与批评(核心通识)                       4\n",
       "美容药物学                             4\n",
       "美容药物学(核心通识)                       1\n",
       "肿瘤学概论(核心通识)                       1\n",
       "自然地理学(核心通识)                       2\n",
       "自然灾害(核心通识)                        1\n",
       "英语传媒与文化(核心通识)                     1\n",
       "英语批判性阅读                           1\n",
       "英语文学与电影改编(核心通识)                   2\n",
       "营养与女性健康                           2\n",
       "营销学基础(核心通识)                       1\n",
       "葡语国家社会文化                          1\n",
       "西方古典音乐文化(核心通识)                    4\n",
       "西方文学经典与跨艺术再现                      1\n",
       "西方经济学原理及其应用(核心通识)                 1\n",
       "诗词地理学(核心通识)                       2\n",
       "课程和教学：理论、政策和实践                    2\n",
       "跨文化交流与管理(核心通识)                    4\n",
       "跨文化交际和中国文化传播(核心通识)               11\n",
       "运动损伤的预防与康复                        1\n",
       "运动营养学                             6\n",
       "近代日本思潮及其人物(核心通识)                  1\n",
       "通识物理实验(核心通识)                      1\n",
       "遗传：健康与疾病                          5\n",
       "陨石学(核心)                           1\n",
       "非物质文化遗产与传统戏剧(核心通识)                2\n",
       "食品的营养与安全                          1\n",
       "食品营养与健康(核心通识)                     1\n",
       "香港经济与粤港澳大湾区                       1\n",
       "马克思的哲学人类学解读(核心通识)                 1\n",
       "高校保健                              3\n",
       "高级并行程序设计(核心通识)                    1\n",
       "鱼与文化(核心通识)                        1\n",
       "dtype: int64"
      ]
     },
     "execution_count": 113,
     "metadata": {},
     "output_type": "execute_result"
    }
   ],
   "source": [
    "\n",
    "pd.options.display.max_columns = None\n",
    "pd.options.display.max_rows = None\n",
    "\n",
    "np.set_printoptions(threshold=np.inf)\n",
    "\n",
    "df.groupby('courses').size()"
   ]
  },
  {
   "cell_type": "code",
   "execution_count": 40,
   "metadata": {
    "scrolled": true
   },
   "outputs": [
    {
     "data": {
      "text/html": [
       "<div>\n",
       "<style scoped>\n",
       "    .dataframe tbody tr th:only-of-type {\n",
       "        vertical-align: middle;\n",
       "    }\n",
       "\n",
       "    .dataframe tbody tr th {\n",
       "        vertical-align: top;\n",
       "    }\n",
       "\n",
       "    .dataframe thead th {\n",
       "        text-align: right;\n",
       "    }\n",
       "</style>\n",
       "<table border=\"1\" class=\"dataframe\">\n",
       "  <thead>\n",
       "    <tr style=\"text-align: right;\">\n",
       "      <th></th>\n",
       "      <th>Unnamed: 0</th>\n",
       "      <th>response</th>\n",
       "    </tr>\n",
       "  </thead>\n",
       "  <tbody>\n",
       "    <tr>\n",
       "      <th>0</th>\n",
       "      <td>0</td>\n",
       "      <td>0.0</td>\n",
       "    </tr>\n",
       "    <tr>\n",
       "      <th>1</th>\n",
       "      <td>1</td>\n",
       "      <td>0.0</td>\n",
       "    </tr>\n",
       "    <tr>\n",
       "      <th>2</th>\n",
       "      <td>2</td>\n",
       "      <td>0.0</td>\n",
       "    </tr>\n",
       "    <tr>\n",
       "      <th>3</th>\n",
       "      <td>3</td>\n",
       "      <td>0.0</td>\n",
       "    </tr>\n",
       "    <tr>\n",
       "      <th>4</th>\n",
       "      <td>4</td>\n",
       "      <td>0.0</td>\n",
       "    </tr>\n",
       "    <tr>\n",
       "      <th>...</th>\n",
       "      <td>...</td>\n",
       "      <td>...</td>\n",
       "    </tr>\n",
       "    <tr>\n",
       "      <th>365</th>\n",
       "      <td>365</td>\n",
       "      <td>0.0</td>\n",
       "    </tr>\n",
       "    <tr>\n",
       "      <th>366</th>\n",
       "      <td>366</td>\n",
       "      <td>0.0</td>\n",
       "    </tr>\n",
       "    <tr>\n",
       "      <th>367</th>\n",
       "      <td>367</td>\n",
       "      <td>1.0</td>\n",
       "    </tr>\n",
       "    <tr>\n",
       "      <th>368</th>\n",
       "      <td>368</td>\n",
       "      <td>0.0</td>\n",
       "    </tr>\n",
       "    <tr>\n",
       "      <th>369</th>\n",
       "      <td>369</td>\n",
       "      <td>0.0</td>\n",
       "    </tr>\n",
       "  </tbody>\n",
       "</table>\n",
       "<p>370 rows × 2 columns</p>\n",
       "</div>"
      ],
      "text/plain": [
       "     Unnamed: 0  response\n",
       "0             0       0.0\n",
       "1             1       0.0\n",
       "2             2       0.0\n",
       "3             3       0.0\n",
       "4             4       0.0\n",
       "..          ...       ...\n",
       "365         365       0.0\n",
       "366         366       0.0\n",
       "367         367       1.0\n",
       "368         368       0.0\n",
       "369         369       0.0\n",
       "\n",
       "[370 rows x 2 columns]"
      ]
     },
     "execution_count": 40,
     "metadata": {},
     "output_type": "execute_result"
    }
   ],
   "source": [
    "response= pd.read_csv(r'D:\\1\\realout4.csv')\n",
    "response"
   ]
  },
  {
   "cell_type": "code",
   "execution_count": 5,
   "metadata": {},
   "outputs": [
    {
     "data": {
      "text/plain": [
       "count    370.000000\n",
       "mean       0.329730\n",
       "std        0.674292\n",
       "min        0.000000\n",
       "25%        0.000000\n",
       "50%        0.000000\n",
       "75%        0.000000\n",
       "max        4.000000\n",
       "Name: response, dtype: float64"
      ]
     },
     "execution_count": 5,
     "metadata": {},
     "output_type": "execute_result"
    }
   ],
   "source": [
    "response['response'].describe()"
   ]
  },
  {
   "cell_type": "code",
   "execution_count": 25,
   "metadata": {
    "scrolled": true
   },
   "outputs": [
    {
     "data": {
      "image/png": "[encoded data removed]",
      "text/plain": [
       "<Figure size 432x288 with 1 Axes>"
      ]
     },
     "metadata": {
      "needs_background": "light"
     },
     "output_type": "display_data"
    }
   ],
   "source": [
    "response['response'].hist(bins=4)#or hist()\n",
    "plt.show()\n",
    "#response['response'].plot.bar(bins=5)"
   ]
  },
  {
   "cell_type": "code",
   "execution_count": null,
   "metadata": {},
   "outputs": [],
   "source": []
  },
  {
   "cell_type": "code",
   "execution_count": null,
   "metadata": {},
   "outputs": [],
   "source": []
  },
  {
   "cell_type": "code",
   "execution_count": null,
   "metadata": {},
   "outputs": [],
   "source": []
  },
  {
   "cell_type": "code",
   "execution_count": null,
   "metadata": {},
   "outputs": [],
   "source": []
  },
  {
   "cell_type": "code",
   "execution_count": null,
   "metadata": {},
   "outputs": [],
   "source": []
  }
 ],
 "metadata": {
  "kernelspec": {
   "display_name": "Python 3",
   "language": "python",
   "name": "python3"
  },
  "language_info": {
   "codemirror_mode": {
    "name": "ipython",
    "version": 3
   },
   "file_extension": ".py",
   "mimetype": "text/x-python",
   "name": "python",
   "nbconvert_exporter": "python",
   "pygments_lexer": "ipython3",
   "version": "3.8.3"
  }
 },
 "nbformat": 4,
 "nbformat_minor": 4
}
